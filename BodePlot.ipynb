{
  "nbformat": 4,
  "nbformat_minor": 0,
  "metadata": {
    "colab": {
      "name": "BodePlot.ipynb",
      "provenance": [],
      "collapsed_sections": []
    },
    "kernelspec": {
      "name": "python3",
      "display_name": "Python 3"
    },
    "language_info": {
      "name": "python"
    }
  },
  "cells": [
    {
      "cell_type": "code",
      "metadata": {
        "id": "bqQM-ofDVmR3"
      },
      "source": [
        "import numpy as np\n",
        "import math\n",
        "import matplotlib.pyplot as plt\n",
        "from abc import ABC, abstractmethod\n",
        "\n",
        "\n",
        "class BodePlotter(ABC):\n",
        "    @abstractmethod\n",
        "    def get_G_j_w(self, w):\n",
        "        \"\"\"\n",
        "        Calculate forward loop gain given w\n",
        "        \"\"\"\n",
        "        pass\n",
        "\n",
        "    def get_M(self, w, h=1):\n",
        "        G_j_w = self.get_G_j_w(w)\n",
        "        return 20 * math.log10((abs(G_j_w) * abs(h)))\n",
        "\n",
        "    def get_phi(self, w):\n",
        "        G_j_w = self.get_G_j_w(w)\n",
        "        return np.arctan2(np.real(G_j_w), np.imag(G_j_w))\n",
        "\n",
        "    def get_bode_plot(self):\n",
        "        x = [0.1, 1, 10, 100]\n",
        "        m = [self.get_M(i) for i in x]\n",
        "        phi = [self.get_phi(i) for i in x]\n",
        "        ax1, ax2 = self.configure_axis()\n",
        "        ax1.plot(x, m)\n",
        "        ax2.plot(x, phi)\n",
        "        plt.show()\n",
        "\n",
        "\n",
        "    @staticmethod\n",
        "    def configure_axis():\n",
        "        fig, (ax1, ax2) = plt.subplots(2, sharex=True)\n",
        "        ax2.yaxis.set_major_locator(plt.MultipleLocator(np.pi / 2))\n",
        "        fig.suptitle('Bode Plot')\n",
        "        plt.xlabel(r'$\\omega$')\n",
        "        ax1.set_ylabel(r'$M(db)$')\n",
        "        ax2.set_ylabel(r'$\\phi$')\n",
        "        ax1.grid()\n",
        "        ax2.grid()\n",
        "        return ax1, ax2\n",
        "\n"
      ],
      "execution_count": 42,
      "outputs": []
    },
    {
      "cell_type": "markdown",
      "metadata": {
        "id": "YI7UFEdUS_YJ"
      },
      "source": [
        "#Usage"
      ]
    },
    {
      "cell_type": "code",
      "metadata": {
        "colab": {
          "base_uri": "https://localhost:8080/",
          "height": 308
        },
        "id": "ukl_tEaATHUv",
        "outputId": "bb6ef60a-8d0f-41f0-dc95-5dd9aa1924b7"
      },
      "source": [
        "class MyBodePlotter(BodePlotter):\n",
        "    def get_G_j_w(self, w):\n",
        "        \"\"\"G(s) = K/2s+100\"\"\"\n",
        "        k = 1\n",
        "        s = complex(0, w)\n",
        "        g = k / 2 * s + 100\n",
        "        return g\n",
        "\n",
        "\n",
        "plotter = MyBodePlotter()\n",
        "plotter.get_bode_plot()"
      ],
      "execution_count": 41,
      "outputs": [
        {
          "output_type": "display_data",
          "data": {
            "image/png": "[encoded data removed]",
            "text/plain": [
              "<Figure size 432x288 with 2 Axes>"
            ]
          },
          "metadata": {
            "needs_background": "light"
          }
        }
      ]
    }
  ]
}